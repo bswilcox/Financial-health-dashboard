{
 "cells": [
  {
   "cell_type": "code",
   "execution_count": 3,
   "id": "e088343a",
   "metadata": {},
   "outputs": [
    {
     "name": "stdout",
     "output_type": "stream",
     "text": [
      "Cleaned and saved: data/cleaned\\AAPL_income_statement_clean.csv\n",
      "Cleaned and saved: data/cleaned\\AAPL_balance_sheet_clean.csv\n",
      "Cleaned and saved: data/cleaned\\AAPL_cash_flow_clean.csv\n",
      "Cleaned and saved: data/cleaned\\JPM_income_statement_clean.csv\n",
      "Cleaned and saved: data/cleaned\\JPM_balance_sheet_clean.csv\n",
      "Cleaned and saved: data/cleaned\\JPM_cash_flow_clean.csv\n",
      "Cleaned and saved: data/cleaned\\JNJ_income_statement_clean.csv\n",
      "Cleaned and saved: data/cleaned\\JNJ_balance_sheet_clean.csv\n",
      "Cleaned and saved: data/cleaned\\JNJ_cash_flow_clean.csv\n"
     ]
    }
   ],
   "source": [
    "# Notebook 2: Data Cleaning\n",
    "\n",
    "import pandas as pd\n",
    "import os\n",
    "\n",
    "# Define directories\n",
    "RAW_DATA_PATH = \"data/raw\"\n",
    "CLEANED_DATA_PATH = \"data/cleaned\"\n",
    "\n",
    "# Create cleaned data directory if it doesn't exist\n",
    "os.makedirs(CLEANED_DATA_PATH, exist_ok=True)\n",
    "\n",
    "# Companies and financial statements\n",
    "companies = [\"AAPL\", \"JPM\", \"JNJ\"]\n",
    "statements = [\"income_statement\", \"balance_sheet\", \"cash_flow\"]\n",
    "\n",
    "def clean_and_save_csv(company, statement):\n",
    "    raw_file = os.path.join(RAW_DATA_PATH, f\"{company}_{statement}.csv\")\n",
    "    cleaned_file = os.path.join(CLEANED_DATA_PATH, f\"{company}_{statement}_clean.csv\")\n",
    "\n",
    "    try:\n",
    "        df = pd.read_csv(raw_file, index_col=0)\n",
    "        df.index = pd.to_datetime(df.index, errors='coerce')\n",
    "        df = df.sort_index()\n",
    "        df = df.dropna(axis=1, how='all')  # Remove columns that are entirely NaN\n",
    "        df = df.fillna(0)\n",
    "        df.to_csv(cleaned_file)\n",
    "        print(f\"Cleaned and saved: {cleaned_file}\")\n",
    "    except Exception as e:\n",
    "        print(f\"Failed to clean {raw_file}: {e}\")\n",
    "\n",
    "for company in companies:\n",
    "    for statement in statements:\n",
    "        clean_and_save_csv(company, statement)\n",
    "\n"
   ]
  }
 ],
 "metadata": {
  "kernelspec": {
   "display_name": "Python 3",
   "language": "python",
   "name": "python3"
  },
  "language_info": {
   "codemirror_mode": {
    "name": "ipython",
    "version": 3
   },
   "file_extension": ".py",
   "mimetype": "text/x-python",
   "name": "python",
   "nbconvert_exporter": "python",
   "pygments_lexer": "ipython3",
   "version": "3.12.2"
  }
 },
 "nbformat": 4,
 "nbformat_minor": 5
}
