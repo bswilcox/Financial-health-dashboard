{
  "cells": [
    {
      "cell_type": "markdown",
      "metadata": {},
      "source": [
        "# 📊 Financial Data Scraper\n",
        "This notebook scrapes financial statements from Macrotrends for selected companies across three sectors:\n",
        "- Apple (Tech)\n",
        "- JPMorgan Chase (Finance)\n",
        "- Johnson & Johnson (Healthcare)\n"
      ]
    },
    {
      "cell_type": "code",
      "execution_count": 1,
      "id": "e4bc6eba",
      "metadata": {},
      "outputs": [
        {
          "name": "stdout",
          "output_type": "stream",
          "text": [
            "Saved data/raw/AAPL_income_statement.csv\n",
            "Saved data/raw/AAPL_balance_sheet.csv\n",
            "Saved data/raw/AAPL_cash_flow.csv\n",
            "Saved data/raw/JPM_income_statement.csv\n",
            "Saved data/raw/JPM_balance_sheet.csv\n",
            "Saved data/raw/JPM_cash_flow.csv\n",
            "Saved data/raw/JNJ_income_statement.csv\n",
            "Saved data/raw/JNJ_balance_sheet.csv\n",
            "Saved data/raw/JNJ_cash_flow.csv\n"
          ]
        }
      ],
      "source": [
        "# Notebook 1: Data Acquisition\n",
        "\n",
        "import yfinance as yf\n",
        "import pandas as pd\n",
        "import os\n",
        "\n",
        "# List of companies with ticker symbols\n",
        "companies = [\n",
        "    {\"ticker\": \"AAPL\", \"name\": \"Apple\"},\n",
        "    {\"ticker\": \"JPM\", \"name\": \"JPMorgan Chase\"},\n",
        "    {\"ticker\": \"JNJ\", \"name\": \"Johnson & Johnson\"}\n",
        "]\n",
        "\n",
        "# Create raw data directory if it doesn't exist\n",
        "os.makedirs(\"data/raw\", exist_ok=True)\n",
        "\n",
        "def save_df_to_csv(df: pd.DataFrame, company: str, statement: str):\n",
        "    filename = f\"data/raw/{company}_{statement}.csv\"\n",
        "    df.to_csv(filename)\n",
        "    print(f\"Saved {filename}\")\n",
        "\n",
        "for c in companies:\n",
        "    ticker = yf.Ticker(c['ticker'])\n",
        "\n",
        "    # Income Statement\n",
        "    try:\n",
        "        income = ticker.financials.transpose()\n",
        "        save_df_to_csv(income, c['ticker'], 'income_statement')\n",
        "    except Exception as e:\n",
        "        print(f\"Failed to get income statement for {c['ticker']}: {e}\")\n",
        "\n",
        "    # Balance Sheet\n",
        "    try:\n",
        "        balance = ticker.balance_sheet.transpose()\n",
        "        save_df_to_csv(balance, c['ticker'], 'balance_sheet')\n",
        "    except Exception as e:\n",
        "        print(f\"Failed to get balance sheet for {c['ticker']}: {e}\")\n",
        "\n",
        "    # Cash Flow\n",
        "    try:\n",
        "        cashflow = ticker.cashflow.transpose()\n",
        "        save_df_to_csv(cashflow, c['ticker'], 'cash_flow')\n",
        "    except Exception as e:\n",
        "        print(f\"Failed to get cash flow for {c['ticker']}: {e}\")\n",
        "\n"
      ]
    }
  ],
  "metadata": {
    "kernelspec": {
      "display_name": "Python 3",
      "language": "python",
      "name": "python3"
    },
    "language_info": {
      "codemirror_mode": {
        "name": "ipython",
        "version": 3
      },
      "file_extension": ".py",
      "mimetype": "text/x-python",
      "name": "python",
      "nbconvert_exporter": "python",
      "pygments_lexer": "ipython3",
      "version": "3.12.2"
    }
  },
  "nbformat": 4,
  "nbformat_minor": 5
}
